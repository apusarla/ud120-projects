{
 "cells": [
  {
   "cell_type": "code",
   "execution_count": 13,
   "metadata": {
    "collapsed": true,
    "pycharm": {
     "is_executing": false
    }
   },
   "outputs": [],
   "source": [
    "#!/usr/bin/python\n",
    "\n",
    "import pickle\n",
    "import sys\n",
    "import numpy\n",
    "import matplotlib.pyplot as plt\n",
    "import pandas as pd\n",
    "\n",
    "sys.path.append(\"../tools/\")\n",
    "\n",
    "from feature_format import featureFormat, targetFeatureSplit\n",
    "from sklearn.model_selection import train_test_split\n",
    "from tester import dump_classifier_and_data\n",
    "from sklearn.cluster import KMeans\n",
    "from time import time\n",
    "from sklearn.metrics import accuracy_score\n",
    "from sklearn import svm"
   ]
  },
  {
   "cell_type": "code",
   "execution_count": 14,
   "outputs": [],
   "source": [
    "\n",
    "###################### functions ##############################\n",
    "def Draw(pred, features, poi, mark_poi=False, name=\"image.png\", f1_name=\"feature 1\", f2_name=\"feature 2\"):\n",
    "    \"\"\" some plotting code designed to help you visualize your clusters \"\"\"\n",
    "\n",
    "    ### plot each cluster with a different color--add more colors for\n",
    "    ### drawing more than five clusters\n",
    "    colors = [\"b\", \"c\", \"k\", \"m\", \"g\"]\n",
    "    for ii, pp in enumerate(pred):\n",
    "        plt.scatter(features[ii][0], features[ii][1], color = colors[pred[ii]])\n",
    "\n",
    "    ### if you like, place red stars over points that are POIs (just for funsies)\n",
    "    if mark_poi:\n",
    "        for ii, pp in enumerate(pred):\n",
    "            if poi[ii]:\n",
    "                plt.scatter(features[ii][0], features[ii][1], color=\"r\", marker=\"*\")\n",
    "    plt.xlabel(f1_name)\n",
    "    plt.ylabel(f2_name)\n",
    "    plt.savefig(name)\n",
    "    plt.show()\n",
    "\n",
    "\n",
    "###################### functions ##############################"
   ],
   "metadata": {
    "collapsed": false,
    "pycharm": {
     "name": "#%%\n",
     "is_executing": false
    }
   }
  },
  {
   "cell_type": "code",
   "execution_count": 15,
   "outputs": [
    {
     "name": "stdout",
     "text": [
      "******************** before oulier removal ***********************\n",
      "('Co-rf/slope:', array([[1.65991868]]), 'Intercept: ', array([-0.09898831]))\n",
      "('Score on Training Data : ', 0.5547517515697697)\n",
      "('Score on Test Data : ', 0.09948499933237076)\n",
      "*******************************************************************\n"
     ],
     "output_type": "stream"
    },
    {
     "data": {
      "image/png": "[encoded data removed]",
      "text/plain": "<Figure size 432x288 with 1 Axes>"
     },
     "metadata": {
      "needs_background": "light"
     },
     "output_type": "display_data"
    }
   ],
   "source": [
    "### Task 1: Select what features you'll use.\n",
    "### features_list is a list of strings, each of which is a feature name.\n",
    "### The first feature must be \"poi\".\n",
    "features_list = ['poi','salary', 'total_payments', 'total_stock_value'] # You will need to use more features\n",
    "\n",
    "### Load the dictionary containing the dataset\n",
    "with open(\"final_project_dataset.pkl\", \"r\") as data_file:\n",
    "    data_dict = pickle.load(data_file)\n",
    "\n",
    "### exploring the dataset ########\n",
    "dataset = pd.DataFrame.from_dict(data_dict, orient='index')\n",
    "#print(dataset)\n",
    "\n",
    "dataset_new = dataset.dropna()\n",
    "#print(dataset_new)\n",
    "\n",
    "###### Number of POI = True is only 18 , and False is 28, though to take True and train the dataset\n",
    "###### and predict the same on False dataset to find out any actual POI's but marked as False, but True is very less in number which is actually\n",
    "###### not eligible for a training set.\n",
    "\n",
    "data = featureFormat(data_dict, features_list)\n",
    "\n",
    "##### preprocessing data #######\n",
    "from sklearn.preprocessing import StandardScaler\n",
    "\n",
    "scaler = StandardScaler()\n",
    "scaler.fit(data)\n",
    "scaler.mean_\n",
    "data = scaler.transform(data)\n",
    "\n",
    "###### still the same, very large margin between set of points to an outlier that is intercepting prediction ####\n",
    "\n",
    "###### trying Normalizer ###########\n",
    "\n",
    "from sklearn.preprocessing import Normalizer\n",
    "\n",
    "transformer = Normalizer().fit(data)\n",
    "data = transformer.transform(data)\n",
    "\n",
    "##### better now ##################\n",
    "outliers = []\n",
    "salary = []\n",
    "payplusstock = []\n",
    "\n",
    "for point in data:\n",
    "    poi = point[0]\n",
    "    sal = point[1]\n",
    "    salary.append(sal)\n",
    "    pay = point[2] + point[3]\n",
    "    payplusstock.append(pay)\n",
    "\n",
    "    plt.scatter( sal, pay )\n",
    "    outliers.append((int(sal),int(pay)))\n",
    "\n",
    "import numpy\n",
    "numpy.amax(data)\n",
    "\n",
    "#pprint(sorted(outliers,key=lambda x:x[1],reverse=True)[:2])\n",
    "salary = numpy.reshape( numpy.array(salary), (len(salary), 1))\n",
    "payplusstock = numpy.reshape( numpy.array(payplusstock), (len(payplusstock), 1))\n",
    "\n",
    "from sklearn.model_selection import train_test_split\n",
    "salary_train, salary_test, payplusstock_train, payplusstock_test = train_test_split(salary, payplusstock, test_size=0.5, random_state=42)\n",
    "\n",
    "from sklearn.linear_model import LinearRegression\n",
    "reg = LinearRegression()\n",
    "reg.fit(salary_train, payplusstock_train)\n",
    "\n",
    "print(\"******************** before oulier removal ***********************\")\n",
    "print(\"Co-rf/slope:\", reg.coef_, \"Intercept: \", reg.intercept_)\n",
    "print(\"Score on Training Data : \", reg.score(salary_train,payplusstock_train))\n",
    "print(\"Score on Test Data : \", reg.score(salary_test,payplusstock_test))\n",
    "print(\"*******************************************************************\")\n",
    "\n",
    "\n",
    "try:\n",
    "    plt.plot(salary, reg.predict(salary), color=\"blue\")\n",
    "except NameError:\n",
    "    pass\n",
    "plt.scatter(salary, payplusstock)\n",
    "plt.show()"
   ],
   "metadata": {
    "collapsed": false,
    "pycharm": {
     "name": "#%%\n",
     "is_executing": false
    }
   }
  },
  {
   "cell_type": "code",
   "execution_count": 16,
   "outputs": [
    {
     "data": {
      "image/png": "[encoded data removed]",
      "text/plain": "<Figure size 432x288 with 1 Axes>"
     },
     "metadata": {
      "needs_background": "light"
     },
     "output_type": "display_data"
    },
    {
     "name": "stdout",
     "text": [
      "******************** after oulier removal ***********************\n",
      "('Co-rf/slope:', array([[1.44146918]]), 'Intercept: ', array([-0.17791513]))\n",
      "('Score on Training Data : ', 0.5353339843718562)\n",
      "('Score on Test Data : ', 0.1845568860485427)\n",
      "*******************************************************************\n"
     ],
     "output_type": "stream"
    }
   ],
   "source": [
    "### Task 2: Remove outliers\n",
    "\n",
    "from outlier_cleaner import outlierCleaner\n",
    "\n",
    "cleaned_data = []\n",
    "\n",
    "try:\n",
    "    predictions = reg.predict(salary)\n",
    "    cleaned_data = outlierCleaner( predictions, salary, payplusstock )\n",
    "except NameError:\n",
    "    print \"your regression object doesn't exist, or isn't name reg\"\n",
    "    print \"can't make predictions to use in identifying outliers\"\n",
    "\n",
    "\n",
    "\n",
    "### now checking if cleaned data has some thing or not ###\n",
    "if len(cleaned_data) > 0:\n",
    "    salary, payplusstock, errors = zip(*cleaned_data)\n",
    "    salary  = numpy.reshape( numpy.array(salary), (len(salary), 1))\n",
    "    payplusstock = numpy.reshape( numpy.array(payplusstock), (len(payplusstock), 1))\n",
    "\n",
    "    ### refit your cleaned data!\n",
    "    try:\n",
    "        reg.fit(salary, payplusstock)\n",
    "        plt.plot(salary, reg.predict(salary), color=\"blue\")\n",
    "    except NameError:\n",
    "        print \"you don't seem to have regression imported/created,\"\n",
    "        print \"   or else your regression object isn't named reg\"\n",
    "        print \"   either way, only draw the scatter plot of the cleaned data\"\n",
    "    plt.scatter(salary, payplusstock)\n",
    "    plt.xlabel(\"salary\")\n",
    "    plt.ylabel(\"total payments plus stocks received\")\n",
    "    plt.show()\n",
    "\n",
    "else:\n",
    "    print \"outlierCleaner() is returning an empty list, no refitting to be done\"\n",
    "\n",
    "\n",
    "print(\"******************** after oulier removal ***********************\")\n",
    "print(\"Co-rf/slope:\", reg.coef_, \"Intercept: \", reg.intercept_)\n",
    "print(\"Score on Training Data : \", reg.score(salary_train,payplusstock_train))\n",
    "print(\"Score on Test Data : \", reg.score(salary_test,payplusstock_test))\n",
    "print(\"*******************************************************************\")"
   ],
   "metadata": {
    "collapsed": false,
    "pycharm": {
     "name": "#%%\n",
     "is_executing": false
    }
   }
  },
  {
   "cell_type": "code",
   "execution_count": 17,
   "outputs": [
    {
     "data": {
      "image/png": "[encoded data removed]",
      "text/plain": "<Figure size 432x288 with 1 Axes>"
     },
     "metadata": {
      "needs_background": "light"
     },
     "output_type": "display_data"
    },
    {
     "data": {
      "image/png": "[encoded data removed]",
      "text/plain": "<Figure size 432x288 with 1 Axes>"
     },
     "metadata": {
      "needs_background": "light"
     },
     "output_type": "display_data"
    },
    {
     "name": "stdout",
     "text": [
      "('features_list is ', ['poi', 'salary', 'bonus', 'sal_to_bonus_ratio'])\n"
     ],
     "output_type": "stream"
    }
   ],
   "source": [
    "### Task 3: Create new feature(s)\n",
    "\n",
    "###### check salary and bonus ratio to check if bonus is paid based up on salary to see if we can find out\n",
    "###### any pattern in this\n",
    "###### firstly using K-means Clustering\n",
    "\n",
    "### the input features we use\n",
    "\n",
    "feature_1 = \"salary\"\n",
    "feature_2 = \"bonus\"\n",
    "poi  = \"poi\"\n",
    "features_list = [poi, feature_1, feature_2 ]\n",
    "data = featureFormat(data_dict, features_list )\n",
    "\n",
    "#### normalizing ######\n",
    "transformer = Normalizer().fit(data)\n",
    "data = transformer.transform(data)\n",
    "\n",
    "poi, finance_features = targetFeatureSplit( data )\n",
    "\n",
    "\n",
    "for f1, f2 in finance_features:\n",
    "    plt.scatter( f1, f2 )\n",
    "plt.show()\n",
    "\n",
    "\n",
    "kmeans = KMeans(n_clusters = 3, random_state=0).fit(finance_features)\n",
    "#print(kmeans.labels_)\n",
    "pred = kmeans.predict(finance_features)\n",
    "\n",
    "\n",
    "try:\n",
    "    Draw(pred, finance_features, poi, mark_poi=False, name=\"clusters.pdf\", f1_name=feature_1, f2_name=feature_2)\n",
    "except NameError:\n",
    "    print \"no predictions object named pred found, no clusters to plot\"\n",
    "\n",
    "\n",
    "##### tried above by K-Means but did not give me any idea ...probably choosed wrong way....\n",
    "\n",
    "##### creating new feature salary/bonus ratio ########\n",
    "for v in data_dict.values():\n",
    "    sal = v[\"salary\"]\n",
    "    bon  = v[\"bonus\"]\n",
    "\n",
    "    v[\"sal_to_bonus_ratio\"] = (float(sal) / float(bon) if\n",
    "                           sal not in [0, \"NaN\"] and bon\n",
    "                           not in [0, \"NaN\"] else 0.0)\n",
    "\n",
    "features_list.append(\"sal_to_bonus_ratio\")\n",
    "#features_list.remove(\"bonus\")\n",
    "#features_list.remove(\"salary\")\n",
    "\n",
    "### Store to my_dataset for easy export below.\n",
    "my_dataset = data_dict\n",
    "\n",
    "### Extract features and labels from dataset for local testing\n",
    "data = featureFormat(my_dataset, features_list, sort_keys = True)\n",
    "labels, features = targetFeatureSplit(data)\n",
    "\n",
    "print(\"features_list is \", features_list)"
   ],
   "metadata": {
    "collapsed": false,
    "pycharm": {
     "name": "#%%\n",
     "is_executing": false
    }
   }
  },
  {
   "cell_type": "code",
   "execution_count": 18,
   "outputs": [
    {
     "name": "stdout",
     "text": [
      "('training time for Gaussioan NB classifier :', 0.001, 's')\n",
      "('predicting time for Gaussioan NB classifier :', 0.001, 's')\n",
      "('Accuracy  for Gaussioan NB classifier :', 0.27586206896551724)\n",
      "('length of features_train :', 66)\n",
      "Linear Regression accuracy is : 0.689655172414\n",
      "Decision Tree Classifier accuracy is : 0.620689655172\n",
      "Random Forest Classifier accuracy is : 0.655172413793\n",
      "Classifier with best accuracy is : Linear Regression with accuracy 0.689655172414 \n"
     ],
     "output_type": "stream"
    }
   ],
   "source": [
    "### Task 4: Try a varity of classifiers\n",
    "### Please name your classifier clf for easy export below.\n",
    "### Note that if you want to do PCA or other multi-stage operations,\n",
    "### you'll need to use Pipelines. For more info:\n",
    "### http://scikit-learn.org/stable/modules/pipeline.html\n",
    "\n",
    "features_train, features_test, labels_train, labels_test = \\\n",
    "    train_test_split(features, labels, test_size=0.3, random_state=42)\n",
    "\n",
    "# starting with GaussianNB classifier first to see\n",
    "from sklearn.naive_bayes import GaussianNB\n",
    "clf = GaussianNB()\n",
    "\n",
    "t0 = time()\n",
    "clf.fit(features_train, labels_train)\n",
    "print(\"training time for Gaussioan NB classifier :\", round(time()-t0, 3), \"s\")\n",
    "\n",
    "t1 = time()\n",
    "pred = clf.predict(features_test)\n",
    "print (\"predicting time for Gaussioan NB classifier :\", round(time()-t1, 3), \"s\")\n",
    "\n",
    "accuracy = accuracy_score(pred,labels_test)\n",
    "print(\"Accuracy  for Gaussioan NB classifier :\" , accuracy)\n",
    "print(\"length of features_train :\", len(features_train))\n",
    "\n",
    "### Storing classifier to my_classifier\n",
    "my_classifier = clf\n",
    "#### now SVM classifier\n",
    "#### start with full traiing set....it has took lot of time but didn't finish so taking fractions of the data and training\n",
    "#### setiing up fraction didnot work for me hence moving\n",
    "#features_train = features_train[:len(features_train)/11]\n",
    "#labels_train = labels_train[:len(labels_train)/11]\n",
    "#print(\"length of features_train :\", len(features_train))\n",
    "\n",
    "\n",
    "#clf = svm.SVC(kernel='linear',gamma='auto')\n",
    "\n",
    "#t0 = time()\n",
    "#clf.fit(features_train,labels_train)\n",
    "#print(\"training time for SVM classifier is :\", round(time()-t0, 3), \"s\")\n",
    "\n",
    "#t1 = time()\n",
    "#pred = clf.predict(features_test)\n",
    "#print (\"predicting time for SVM classifier is :\", round(time()-t1, 3), \"s\")\n",
    "\n",
    "#accuracy = accuracy_score(pred,labels_test)\n",
    "#print(\"Acuuracy time  for SVM classifier is :\", accuracy)\n",
    "\n",
    "\n",
    "#### using pipeline\n",
    "from sklearn.pipeline import Pipeline\n",
    "from sklearn.decomposition import PCA\n",
    "from sklearn.linear_model import LogisticRegression\n",
    "from sklearn.tree import DecisionTreeClassifier\n",
    "from sklearn.ensemble import RandomForestClassifier\n",
    "\n",
    "pipeline_lr = Pipeline([('scalar1',StandardScaler()),\n",
    "                        ('pca1', PCA(n_components=2)),\n",
    "                        ('lr_classifier', LogisticRegression(random_state=0))])\n",
    "\n",
    "pipeline_dt = Pipeline([('scalar2',StandardScaler()),\n",
    "                        ('pca2', PCA(n_components=2)),\n",
    "                        ('dt_classifier', DecisionTreeClassifier())])\n",
    "\n",
    "pipeline_rf = Pipeline([('scalar3',StandardScaler()),\n",
    "                        ('pca3', PCA(n_components=2)),\n",
    "                        ('rf_classifier', RandomForestClassifier())])\n",
    "\n",
    "pipelines = [pipeline_lr, pipeline_dt, pipeline_rf]\n",
    "\n",
    "pipeline_dict = {0 : 'Linear Regression', 1 : 'Decision Tree Classifier', 2 : 'Random Forest Classifier'}\n",
    "\n",
    "best_accuracy = 0.0\n",
    "best_classifier = 0\n",
    "best_pipeline = \"\"\n",
    "\n",
    "### Applying fit method to all pipelines\n",
    "for pipeline in pipelines:\n",
    "    pipeline.fit(features_train, labels_train)\n",
    "    #print(pipeline.get_params())\n",
    "\n",
    "### now calculating accuracy for the three algorithm's in the pipelines\n",
    "for index, model in enumerate(pipelines):\n",
    "    print(\"{} accuracy is : {}\".format(pipeline_dict[index], model.score(features_test, labels_test)))\n",
    "\n",
    "### now finding out which yielded best results\n",
    "for index, model in enumerate(pipelines):\n",
    "    if  model.score(features_test, labels_test) >  best_accuracy:\n",
    "        best_accuracy =  model.score(features_test, labels_test)\n",
    "        best_classifier = index\n",
    "        best_pipeline = model\n",
    "\n",
    "print(\"Classifier with best accuracy is : {} with accuracy {} \".format(pipeline_dict[best_classifier],best_accuracy))\n"
   ],
   "metadata": {
    "collapsed": false,
    "pycharm": {
     "name": "#%%\n",
     "is_executing": false
    }
   }
  },
  {
   "cell_type": "code",
   "execution_count": 19,
   "outputs": [
    {
     "name": "stderr",
     "text": [
      "C:\\ProgramData\\Anaconda2\\lib\\site-packages\\sklearn\\model_selection\\_search.py:841: DeprecationWarning: The default of the `iid` parameter will change from True to False in version 0.22 and will be removed in 0.24. This will change numeric results when test-set sizes are unequal.\n",
      "  DeprecationWarning)\n",
      "C:\\ProgramData\\Anaconda2\\lib\\site-packages\\sklearn\\model_selection\\_search.py:841: DeprecationWarning: The default of the `iid` parameter will change from True to False in version 0.22 and will be removed in 0.24. This will change numeric results when test-set sizes are unequal.\n",
      "  DeprecationWarning)\n",
      "C:\\ProgramData\\Anaconda2\\lib\\site-packages\\sklearn\\model_selection\\_search.py:841: DeprecationWarning: The default of the `iid` parameter will change from True to False in version 0.22 and will be removed in 0.24. This will change numeric results when test-set sizes are unequal.\n",
      "  DeprecationWarning)\n",
      "C:\\ProgramData\\Anaconda2\\lib\\site-packages\\sklearn\\model_selection\\_search.py:841: DeprecationWarning: The default of the `iid` parameter will change from True to False in version 0.22 and will be removed in 0.24. This will change numeric results when test-set sizes are unequal.\n",
      "  DeprecationWarning)\n"
     ],
     "output_type": "stream"
    },
    {
     "name": "stdout",
     "text": [
      "('Best Penalty:', 'l1')\n",
      "('Best C:', 0.0001)\n",
      "('Best Number Of Components:', 1)\n",
      "['mean_fit_time', 'mean_score_time', 'mean_test_score', 'mean_train_score', 'param_lr_classifier__C', 'param_lr_classifier__penalty', 'param_pca1__n_components', 'params', 'rank_test_score', 'split0_test_score', 'split0_train_score', 'split1_test_score', 'split1_train_score', 'split2_test_score', 'split2_train_score', 'std_fit_time', 'std_score_time', 'std_test_score', 'std_train_score']\n",
      "[0.8125     0.8125     0.83870968]\n"
     ],
     "output_type": "stream"
    }
   ],
   "source": [
    "# Task 5: Tune your classifier to achieve better than .3 precision and recall\n",
    "### using our testing script. Check the tester.py script in the final project\n",
    "### folder for details on the evaluation method, especially the test_classifier\n",
    "### function. Because of the small size of the dataset, the script uses\n",
    "### stratified shuffle split cross validation. For more info:\n",
    "### http://scikit-learn.org/stable/modules/generated/sklearn.cross_validation.StratifiedShuffleSplit.html\n",
    "\n",
    "# Example starting point. Try investigating other evaluation techniques!\n",
    "\n",
    "### now from above step we came to know that Linear Regression has given good accuracy, we will tune the same algorithm\n",
    "### to maximize the accuracy\n",
    "\n",
    "# Create an scaler object with get params from above\n",
    "scalar1 = StandardScaler(copy=True, with_mean=True, with_std=True)\n",
    "\n",
    "# Create a pca object with get params from above\n",
    "pca1 = PCA(copy=True, iterated_power='auto', n_components=2, random_state=None, svd_solver='auto', tol=0.0, whiten=False)\n",
    "\n",
    "# Create a logistic regression object with get params from above\n",
    "lr_classifier = LogisticRegression(C=1.0, class_weight=None, dual=False, fit_intercept=True, intercept_scaling=1,\n",
    "                              max_iter=100, multi_class='warn', n_jobs=None, penalty='l2', random_state=0,\n",
    "                              solver='warn', tol=0.0001, verbose=0, warm_start=False)\n",
    "\n",
    "# Create a pipeline\n",
    "pipe = Pipeline(steps=[('scalar1', scalar1),\n",
    "                       ('pca1', pca1),\n",
    "                       ('lr_classifier', lr_classifier)])\n",
    "\n",
    "\n",
    "### Create a list of a sequence of integers from 1 to 30 (the number of features in X + 1)\n",
    "n_components = list(range(1,4,1))\n",
    "\n",
    "### Create a list of values of the regularization parameter\n",
    "C = numpy.logspace(-4, 4, 50)\n",
    "\n",
    "### Create a list of options for the regularization penalty\n",
    "penalty = ['l1', 'l2']\n",
    "\n",
    "# Create a dictionary of all the parameter options\n",
    "parameters = dict(pca1__n_components=n_components,\n",
    "                  lr_classifier__C=C,\n",
    "                  lr_classifier__penalty=penalty)\n",
    "'''\n",
    "parameters = {\n",
    "    'lr_classifier__C' : [1.0],\n",
    "    'scalar1__with_std' : [True],\n",
    "    'scalar1__copy' : [True],\n",
    "    'scalar1__with_mean' : [True],\n",
    "    'pca1__random_state' : [None],\n",
    "    'pca1__n_components' : [2],\n",
    "    'pca1__iterated_power' : ['auto'],\n",
    "    'pca1__tol' : [0.0],\n",
    "    'pca1__svd_solver' : ['auto'],\n",
    "    'pca1__whiten' : [False],\n",
    "    'pca1__copy' : [True],\n",
    "    'lr_classifier__max_iter' : [100],\n",
    "    'lr_classifier__fit_intercept' : [True],\n",
    "    'lr_classifier__multi_class' : ['warn'],\n",
    "    'lr_classifier__dual' : [False],\n",
    "    'lr_classifier__solver' : ['warn'],\n",
    "    'lr_classifier__random_state' : [0],\n",
    "    'lr_classifier__intercept_scaling' : [1],\n",
    "    'lr_classifier__n_jobs' : [None],\n",
    "    'lr_classifier__warm_start' : [False],\n",
    "    'lr_classifier__verbose' : [0],\n",
    "    'lr_classifier__tol' : [0.0001],\n",
    "    'lr_classifier__penalty' : ['l2'],\n",
    "    'lr_classifier__class_weight' : [None]\n",
    "}\n",
    "'''\n",
    "\n",
    "\n",
    "from sklearn.model_selection import GridSearchCV\n",
    "### Parameter Optmization With Pipeline\n",
    "### Create a grid search object\n",
    "clf = GridSearchCV(pipe, parameters)\n",
    "\n",
    "### Fit the grid search\n",
    "clf.fit(features_train, labels_train)\n",
    "\n",
    "\n",
    "### View The Best Parameters\n",
    "print('Best Penalty:', clf.best_estimator_.get_params()['lr_classifier__penalty'])\n",
    "print('Best C:', clf.best_estimator_.get_params()['lr_classifier__C'])\n",
    "print('Best Number Of Components:', clf.best_estimator_.get_params()['pca1__n_components'])\n",
    "\n",
    "print(sorted(clf.cv_results_.keys()))\n",
    "\n",
    "\n",
    "from sklearn.model_selection import cross_val_score\n",
    "### Cross Validation To Evaluate Model\n",
    "# Fit the grid search using 3-Fold cross validation\n",
    "print(cross_val_score(clf, features, labels))"
   ],
   "metadata": {
    "collapsed": false,
    "pycharm": {
     "name": "#%%\n",
     "is_executing": false
    }
   }
  },
  {
   "cell_type": "code",
   "execution_count": 20,
   "outputs": [],
   "source": [
    "### Task 6: Dump your classifier, dataset, and features_list so anyone can\n",
    "### check your results. You do not need to change anything below, but make sure\n",
    "### that the version of poi_id.py that you submit can be run on its own and\n",
    "### generates the necessary .pkl files for validating your results.\n",
    "\n",
    "dump_classifier_and_data(clf, my_dataset, features_list)\n",
    "\n",
    "\n",
    "\n"
   ],
   "metadata": {
    "collapsed": false,
    "pycharm": {
     "name": "#%%\n",
     "is_executing": false
    }
   }
  }
 ],
 "metadata": {
  "kernelspec": {
   "display_name": "Python 2",
   "language": "python",
   "name": "python2"
  },
  "language_info": {
   "codemirror_mode": {
    "name": "ipython",
    "version": 2
   },
   "file_extension": ".py",
   "mimetype": "text/x-python",
   "name": "python",
   "nbconvert_exporter": "python",
   "pygments_lexer": "ipython2",
   "version": "2.7.6"
  },
  "pycharm": {
   "stem_cell": {
    "cell_type": "raw",
    "source": [],
    "metadata": {
     "collapsed": false
    }
   }
  }
 },
 "nbformat": 4,
 "nbformat_minor": 0
}